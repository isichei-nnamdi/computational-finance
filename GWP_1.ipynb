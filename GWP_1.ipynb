{
 "cells": [
  {
   "cell_type": "code",
   "execution_count": 1,
   "id": "d499fdde",
   "metadata": {},
   "outputs": [],
   "source": [
    "#Importing useful libriaries\n",
    "import scipy as sp\n",
    "import numpy as np\n",
    "from scipy import random\n",
    "from scipy.stats import norm\n",
    "import math\n",
    "import matplotlib.pyplot as plt\n",
    "\n",
    "T = 1\n",
    "rf = 0.08 \n",
    "S = 100 \n",
    "X = 150\n",
    "K = X\n",
    "sigma = 0.3 "
   ]
  },
  {
   "cell_type": "markdown",
   "id": "daa843ff",
   "metadata": {},
   "source": [
    "### 4.) Pricing a European call option with the information provided"
   ]
  },
  {
   "cell_type": "code",
   "execution_count": 2,
   "id": "99a0ffba",
   "metadata": {},
   "outputs": [
    {
     "data": {
      "text/plain": [
       "(2.4480069724273, 0.045299744960906156)"
      ]
     },
     "execution_count": 2,
     "metadata": {},
     "output_type": "execute_result"
    }
   ],
   "source": [
    "#Code for call option\n",
    "random.seed(0)\n",
    "\n",
    "#Function for terminal share valuation\n",
    "def terminal_shareprice(S, rf,sigma,Z,T):\n",
    "    \"\"\"Generates the terminal share price given some random normal values, Z\"\"\"\n",
    "    return S*np.exp((rf-sigma**2/2)*T+sigma*np.sqrt(T)*Z)\n",
    "\n",
    "#Function for put valuations\n",
    "def discounted_call_payoff(S,K,rf,T):\n",
    "    \"\"\"Function for evaluating the discounted payoff of call price in Monte Carlo Estimation\"\"\"\n",
    "    return np.exp(-rf*T)*np.maximum(S-K,0)\n",
    "\n",
    "#Empty vectors to be filled later\n",
    "mcall_estimates = [None]*50\n",
    "mcall_std = [None]*50\n",
    "\n",
    "#Applying MC estimation\n",
    "for i in range(1,51):\n",
    "    norm_array = norm.rvs(size = 1000*i)\n",
    "    term_val = terminal_shareprice(S, rf,sigma,norm_array,T)\n",
    "    mcall_val = discounted_call_payoff(term_val,K,rf,T)\n",
    "    mcall_estimates[i-1] = np.mean(mcall_val)\n",
    "    mcall_std[i-1] = np.std(mcall_val)/np.sqrt(1000*i)\n",
    "    \n",
    "mcall_estimates[i-1], mcall_std[i-1]"
   ]
  },
  {
   "cell_type": "markdown",
   "id": "187aa946",
   "metadata": {},
   "source": [
    "### 5.) Pricing a European up-and-out barrier call option"
   ]
  },
  {
   "cell_type": "code",
   "execution_count": 3,
   "id": "7a3246a9",
   "metadata": {},
   "outputs": [],
   "source": [
    "barrier = 150        # Barrier level\n",
    "n_simulation = 100  # number of simulations\n",
    "\n",
    "def bs_call(S,X,T,rf,sigma):\n",
    "  \n",
    "    from scipy import log,exp,sqrt,stats\n",
    "    d1=(np.log(S/X)+(rf+sigma*sigma/2.)*T)/(sigma*np.sqrt(T))\n",
    "    d2 = d1-sigma*np.sqrt(T)\n",
    "    return S*stats.norm.cdf(d1)-X*np.exp(-rf*T)*stats.norm.cdf(d2)\n",
    "\n",
    "def up_and_out_call(s0,x,T,r,sigma,n_simulation,barrier):\n",
    "    \"\"\"\n",
    "        Returns: Call value of an up-and-out barrier option with European call\n",
    "    \"\"\"\n",
    "    n_steps= 100 # Define number of steps.\n",
    "    dt = T/n_steps\n",
    "    total=0\n",
    "    for j in range(0,n_simulation):\n",
    "        sT=s0\n",
    "        out=False\n",
    "        for i in range(0,int(n_steps)):\n",
    "            e= sp.random.normal()\n",
    "            sT*=np.exp((r-0.5*sigma**2)*dt+sigma*e*np.sqrt(dt))\n",
    "            if sT>barrier:\n",
    "                out=True\n",
    "        \n",
    "        if out==False:\n",
    "            total+=bs_call(s0,x,T,r,sigma)\n",
    "    return total/n_simulation"
   ]
  },
  {
   "cell_type": "markdown",
   "id": "38aa6fcf",
   "metadata": {},
   "source": [
    "### 6.) Pricing a European up-and-in barrier call option with the two other option prices."
   ]
  },
  {
   "cell_type": "code",
   "execution_count": 4,
   "id": "67219c0a",
   "metadata": {},
   "outputs": [
    {
     "name": "stdout",
     "output_type": "stream",
     "text": [
      "Price for the Up-and-out Call =  2.056\n"
     ]
    }
   ],
   "source": [
    "result = up_and_out_call(S,K,T,rf,sigma,n_simulation,barrier)\n",
    "print('Price for the Up-and-out Call = ', round(result,3))"
   ]
  },
  {
   "cell_type": "markdown",
   "id": "7d66a380",
   "metadata": {},
   "source": [
    "### 7.) Repeat Question 5 (Price up-and-out barrier call) 6 times"
   ]
  },
  {
   "cell_type": "code",
   "execution_count": 5,
   "id": "9b571552",
   "metadata": {
    "scrolled": true
   },
   "outputs": [
    {
     "name": "stdout",
     "output_type": "stream",
     "text": [
      "   Strike Level  Option Price\n",
      "0            85        20.469\n",
      "1            90        17.098\n",
      "2            95        15.629\n",
      "3           105        10.138\n",
      "4           110         9.346\n",
      "5           115         7.562\n"
     ]
    }
   ],
   "source": [
    "import pandas as pd\n",
    "strike_level = [85, 90, 95, 105, 110, 115]\n",
    "option_price = []\n",
    "for K in strike_level:\n",
    "    result = up_and_out_call(S,K,T,rf,sigma,n_simulation,barrier)\n",
    "    option_price.append(round(result,3))\n",
    "\n",
    "final_result = {'Strike Level': strike_level, 'Option Price': option_price}\n",
    "table = pd.DataFrame(data = final_result)   \n",
    "print(table)"
   ]
  },
  {
   "cell_type": "markdown",
   "id": "b5d9f1f9",
   "metadata": {},
   "source": [
    "### 8. Estimating Credit Valuation Adjustment (CVA). "
   ]
  },
  {
   "cell_type": "code",
   "execution_count": 7,
   "id": "a6b4dab1",
   "metadata": {},
   "outputs": [],
   "source": [
    "#Initialization\n",
    "V_0 = 200\n",
    "sigma_firm = 0.25\n",
    "recovery_rate = 0.25\n",
    "debt = 175\n",
    "\n",
    "\n",
    "#Computing the terminal value and call payoff\n",
    "def terminal_value(S, rf, sigma, Z, T):\n",
    "    return S*np.exp((rf-sigma**2/2)*T+sigma*np.sqrt(T)*Z)\n",
    "\n",
    "def call_payoff(S_T,K):\n",
    "    return np.maximum(S_T-K,0)\n",
    "\n",
    "#Calculating the correlation matrix\n",
    "np.random.seed(0)\n",
    "\n",
    "corr_tested = np.linspace(-1, 1, 21)\n",
    "cva_estimates = [None]*len(corr_tested)\n",
    "cva_std = [None]*len(corr_tested)\n",
    "\n",
    "\n",
    "#Implementing CVA in python\n",
    "for i in range(len(corr_tested)):\n",
    "    \n",
    "    correlation = corr_tested[i]\n",
    "    if (correlation == 1 or correlation == -1):\n",
    "        norm_vec_0 = norm.rvs(size=50000)\n",
    "        norm_vec_1 = correlation*norm_vec_0\n",
    "        corr_norm_matrix = np.array([norm_vec_0, norm_vec_1])\n",
    "        \n",
    "    else:\n",
    "        corr_matrix = np.array([[1, correlation], [correlation, 1]])\n",
    "        norm_matrix = norm.rvs(size = np.array([2,50000]))\n",
    "        corr_norm_matrix = np.matmul(np.linalg.cholesky(corr_matrix), norm_matrix)\n",
    "        \n",
    "    term_stock_val = terminal_value(S, rf, sigma, corr_norm_matrix[0,],T)\n",
    "    call_val = call_payoff(term_stock_val, K)\n",
    "    term_firm_val = terminal_value(V_0, rf, sigma_firm, corr_norm_matrix[1,],T)\n",
    "    amount_lost = np.exp(-rf*T)*(1-recovery_rate)*(term_firm_val < debt)*call_val\n",
    "    cva_estimates[i] = np.mean(amount_lost)\n",
    "    cva_std[i] = np.std(amount_lost)/np.sqrt(50000)\n",
    "\n",
    "    \n",
    "    \n",
    "#Calculating default probability\n",
    "d_1 = (np.log(V_0/debt)+(rf+sigma_firm**2/2)*(T))/(sigma_firm*np.sqrt(T))\n",
    "d_2 = d_1 - sigma_firm*np.sqrt(T)\n",
    "\n",
    "default_prob = norm.cdf(-d_2)\n",
    "\n",
    "\n",
    "#Calculating the analytic solution for vanilla European Call option\n",
    "d_1_stock = (np.log(S/K)+(rf+sigma**2/2)*(T))/(sigma*np.sqrt(T))\n",
    "d_2_stock = d_1_stock - sigma*np.sqrt(T)\n",
    "\n",
    "analytic_callprice = S*norm.cdf(d_1_stock)-K*np.exp(-rf*T)*norm.cdf(d_2_stock)"
   ]
  },
  {
   "cell_type": "code",
   "execution_count": 8,
   "id": "97450f74",
   "metadata": {},
   "outputs": [],
   "source": [
    "uncorr_cva = (1-recovery_rate)*default_prob*analytic_callprice"
   ]
  },
  {
   "cell_type": "code",
   "execution_count": 9,
   "id": "a5c564d3",
   "metadata": {},
   "outputs": [
    {
     "data": {
      "image/png": "[encoded data removed]",
      "text/plain": [
       "<Figure size 432x288 with 1 Axes>"
      ]
     },
     "metadata": {
      "needs_background": "light"
     },
     "output_type": "display_data"
    }
   ],
   "source": [
    "plt.title('Monte Carlo Estimates of CVA with initial firm value of $200')\n",
    "plt.plot(corr_tested,[uncorr_cva]*21)\n",
    "plt.plot(corr_tested, cva_estimates, '.')\n",
    "plt.plot(corr_tested, cva_estimates+3*np.array(cva_std), 'r')\n",
    "plt.plot(corr_tested, cva_estimates-3*np.array(cva_std), 'r')\n",
    "plt.xlabel('Correlation')\n",
    "plt.ylabel('CVA')\n",
    "plt.show()"
   ]
  },
  {
   "cell_type": "markdown",
   "id": "72eba64c",
   "metadata": {},
   "source": [
    "#### 9. Calculate the Monte Carlo estimates for the price of the option incorporating counterparty risk, given by the default-free price less the CVA"
   ]
  },
  {
   "cell_type": "code",
   "execution_count": null,
   "id": "2117a498",
   "metadata": {},
   "outputs": [],
   "source": [
    "#Initialization\n",
    "V_0 = 200\n",
    "sigma_firm = 0.25\n",
    "recovery_rate = 0.25\n",
    "debt = 175\n",
    "\n",
    "\n",
    "#Computing the terminal value and call payoff\n",
    "def terminal_value(S, rf, sigma, Z, T):\n",
    "    return S*np.exp((rf-sigma**2/2)*T+sigma*np.sqrt(T)*Z)\n",
    "\n",
    "def call_payoff(S_T,K):\n",
    "    return np.maximum(S_T-K,0)\n",
    "\n",
    "#Calculating the correlation matrix\n",
    "np.random.seed(0)\n",
    "\n",
    "corr_tested = np.linspace(-1, 1, 21)\n",
    "cva_estimates = [None]*len(corr_tested)\n",
    "cva_std = [None]*len(corr_tested)\n",
    "\n",
    "\n",
    "#Implementing CVA in python\n",
    "for i in range(len(corr_tested)):\n",
    "    \n",
    "    correlation = corr_tested[i]\n",
    "    if (correlation == 1 or correlation == -1):\n",
    "        norm_vec_0 = norm.rvs(size=50000)\n",
    "        norm_vec_1 = correlation*norm_vec_0\n",
    "        corr_norm_matrix = np.array([norm_vec_0, norm_vec_1])\n",
    "        \n",
    "    else:\n",
    "        corr_matrix = np.array([[1, correlation], [correlation, 1]])\n",
    "        norm_matrix = norm.rvs(size = np.array([2,50000]))\n",
    "        corr_norm_matrix = np.matmul(np.linalg.cholesky(corr_matrix), norm_matrix)\n",
    "        \n",
    "    term_stock_val = terminal_value(S, rf, sigma, corr_norm_matrix[0,],T)\n",
    "    call_val = call_payoff(term_stock_val, K)\n",
    "    term_firm_val = terminal_value(V_0, rf, sigma_firm, corr_norm_matrix[1,],T)\n",
    "    amount_lost = np.exp(-rf*T)*(1-recovery_rate)*(term_firm_val < debt)*call_val\n",
    "    cva_estimates[i] = np.mean(amount_lost)\n",
    "    cva_std[i] = np.std(amount_lost)/np.sqrt(50000)\n",
    "\n",
    "    \n",
    "    \n",
    "#Calculating default probability\n",
    "d_1 = (np.log(V_0/debt)+(rf+sigma_firm**2/2)*(T))/(sigma_firm*np.sqrt(T))\n",
    "d_2 = d_1 - sigma_firm*np.sqrt(T)\n",
    "\n",
    "default_prob = norm.cdf(-d_2)\n",
    "\n",
    "\n",
    "#Calculating the analytic solution for vanilla European Call option\n",
    "d_1_stock = (np.log(S/K)+(rf+sigma**2/2)*(T))/(sigma*np.sqrt(T))\n",
    "d_2_stock = d_1_stock - sigma*np.sqrt(T)\n",
    "\n",
    "analytic_callprice = S*norm.cdf(d_1_stock)-K*np.exp(-rf*T)*norm.cdf(d_2_stock)"
   ]
  }
 ],
 "metadata": {
  "kernelspec": {
   "display_name": "Python 3 (ipykernel)",
   "language": "python",
   "name": "python3"
  },
  "language_info": {
   "codemirror_mode": {
    "name": "ipython",
    "version": 3
   },
   "file_extension": ".py",
   "mimetype": "text/x-python",
   "name": "python",
   "nbconvert_exporter": "python",
   "pygments_lexer": "ipython3",
   "version": "3.9.7"
  }
 },
 "nbformat": 4,
 "nbformat_minor": 5
}
